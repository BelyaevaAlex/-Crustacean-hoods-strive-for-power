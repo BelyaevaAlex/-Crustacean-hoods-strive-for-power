{
  "cells": [
    {
      "attachments": {},
      "cell_type": "markdown",
      "metadata": {
        "id": "D_8v0EAwFN5K"
      },
      "source": [
        "### 2. Selecting an evolution model in ModelTest (ModelTest-NG) and in ModelFinder (IQ-TREE):"
      ]
    },
    {
      "attachments": {},
      "cell_type": "markdown",
      "metadata": {
        "id": "dTrVRrQuV-JH"
      },
      "source": [
        "We will refuse to use the PartitionFinder tool, since it is quite difficult to install and we will better select an evolutionary model using BIC using two other tools (RAxML-NG and IQ-TREE)."
      ]
    },
    {
      "cell_type": "code",
      "execution_count": null,
      "metadata": {
        "colab": {
          "base_uri": "https://localhost:8080/"
        },
        "id": "0QUYLxuwGM-w",
        "outputId": "cd18a93d-abeb-4d76-cff4-55c944a09509"
      },
      "outputs": [],
      "source": [
        "! modeltest-ng -i 16S_alignment.fas -o 16S_alignment_modeltest"
      ]
    },
    {
      "cell_type": "code",
      "execution_count": null,
      "metadata": {
        "colab": {
          "base_uri": "https://localhost:8080/"
        },
        "id": "rZfQW1eIGNNU",
        "outputId": "b1c495bc-02c5-40d7-c095-c34f86ce624e"
      },
      "outputs": [],
      "source": [
        "!iqtree -m MFP -s 16S_alignment.fas --prefix 16S_alignment_MF2 # even without parallelization, it works faster"
      ]
    },
    {
      "cell_type": "code",
      "execution_count": null,
      "metadata": {
        "colab": {
          "base_uri": "https://localhost:8080/"
        },
        "id": "l34oEvKVGNZc",
        "outputId": "c8af0b26-0281-4cec-ce2d-4f8ba73f8495"
      },
      "outputs": [],
      "source": [
        "! modeltest-ng -i 28S_alignment.fas -o 28S_alignment_modeltest"
      ]
    },
    {
      "cell_type": "code",
      "execution_count": null,
      "metadata": {
        "colab": {
          "base_uri": "https://localhost:8080/"
        },
        "id": "TB3HxYMnMMGU",
        "outputId": "dedf0ab0-a9f2-42ad-c3f9-5094a2db73b1"
      },
      "outputs": [],
      "source": [
        "!iqtree -m MFP -s 28S_alignment.fas --prefix 28S_alignment_MF2 # even without parallelization, it works faster"
      ]
    },
    {
      "cell_type": "code",
      "execution_count": null,
      "metadata": {
        "colab": {
          "base_uri": "https://localhost:8080/"
        },
        "id": "W024H-3EMObY",
        "outputId": "7557ca44-e888-47f7-87b8-67e84b5395a1"
      },
      "outputs": [],
      "source": [
        "! modeltest-ng -i EF1a_alignment_phased.fas -o EF1a_alignment_phased_modeltest"
      ]
    },
    {
      "cell_type": "code",
      "execution_count": null,
      "metadata": {
        "colab": {
          "base_uri": "https://localhost:8080/"
        },
        "id": "T7oIljDvMOkP",
        "outputId": "0f73efd1-2fb6-4450-f7e1-b3668886d76e"
      },
      "outputs": [],
      "source": [
        "!iqtree -m MFP -s EF1a_alignment_phased.fas --prefix EF1a_alignment_phased_MF2 # even without parallelization, it works faster"
      ]
    }
  ],
  "metadata": {
    "colab": {
      "provenance": []
    },
    "kernelspec": {
      "display_name": "venv39",
      "language": "python",
      "name": "python3"
    },
    "language_info": {
      "codemirror_mode": {
        "name": "ipython",
        "version": 3
      },
      "file_extension": ".py",
      "mimetype": "text/x-python",
      "name": "python",
      "nbconvert_exporter": "python",
      "pygments_lexer": "ipython3",
      "version": "3.9.13"
    },
    "orig_nbformat": 4
  },
  "nbformat": 4,
  "nbformat_minor": 0
}
