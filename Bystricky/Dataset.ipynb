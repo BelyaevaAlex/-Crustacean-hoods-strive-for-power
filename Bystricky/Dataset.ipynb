{
  "cells": [
    {
      "attachments": {},
      "cell_type": "markdown",
      "metadata": {
        "id": "ocpR63mFFN41"
      },
      "source": [
        "### 0. Preparing the environment for work:"
      ]
    },
    {
      "cell_type": "code",
      "execution_count": 1,
      "metadata": {
        "id": "1VBFRcc-FN4-"
      },
      "outputs": [],
      "source": [
        "from IPython.display import Image"
      ]
    },
    {
      "attachments": {},
      "cell_type": "markdown",
      "metadata": {
        "id": "vb_y1HxrFN5A"
      },
      "source": [
        "### 1. Reproducible data download from NCBI:"
      ]
    },
    {
      "cell_type": "code",
      "execution_count": null,
      "metadata": {
        "id": "-hQt9NkNFN5B"
      },
      "outputs": [],
      "source": [
        "from Bio import Entrez\n",
        "from Bio import SeqIO"
      ]
    },
    {
      "cell_type": "code",
      "execution_count": null,
      "metadata": {
        "id": "Tgk4qi2vFN5B"
      },
      "outputs": [],
      "source": [
        "# submission according to the recommendations - so that there is no blocking and the number of requests will be increased\n",
        "Entrez.email = \"belyaeva.alex1@yandex.ru\" "
      ]
    },
    {
      "cell_type": "code",
      "execution_count": null,
      "metadata": {
        "id": "YVHXdKDEFN5C"
      },
      "outputs": [],
      "source": [
        "\n",
        "accession_numbers = [\"ON814704\", \"ON814786\", \"ON814705\", \"ON814787\", \"ON843869\", \"ON814709\", \"ON814710\", \"ON814712\", \"ON814791\", \"ON843871\", \"ON814714\", \"ON814792\", \"ON843872\", \"ON814727\", \"ON814796\", \"ON843874\", \"ON814735\", \"ON814800\", \"ON843876\", \"ON814744\", \"ON814803\", \"ON814746\", \"ON814748\", \"ON814804\", \"ON814752\", \"ON814808\", \"ON814815\", \"ON814816\", \"ON814819\", \"ON814758\", \"ON814821\", \"ON814762\", \"ON814826\", \"ON814830\", \"ON814833\", \"ON814835\", \"ON814772\", \"ON814700\", \"ON814701\", \"ON814703\", \"ON814784\", \"ON814785\", \"ON814707\", \"ON814790\", \"ON814717\", \"ON814718\", \"ON814721\", \"ON814723\", \"ON814794\", \"ON814724\", \"ON814726\", \"ON814798\", \"ON814739\", \"ON814741\", \"ON814742\", \"ON814743\", \"ON814805\", \"ON814751\", \"ON814807\", \"ON814809\", \"ON814754\", \"ON814810\", \"ON843879\", \"ON814811\", \"ON814813\", \"ON814755\", \"ON814814\", \"ON843880\", \"ON814757\", \"ON814822\", \"ON814823\", \"ON814761\", \"ON814825\", \"ON814767\", \"ON814834\", \"ON843884\", \"ON814771\", \"ON814733\", \"ON814799\", \"ON843875\", \"ON814764\", \"ON814827\", \"ON843882\", \"ON814702\", \"ON814706\", \"ON814788\", \"ON814708\", \"ON814711\", \"ON814789\", \"ON843870\", \"ON814713\", \"ON814715\", \"ON814716\", \"ON814719\", \"ON814720\", \"ON814722\", \"ON814793\", \"ON843873\", \"ON814725\", \"ON814795\", \"ON814728\", \"ON814729\", \"ON814730\", \"ON814797\", \"ON814732\", \"ON814734\", \"ON814736\", \"ON814801\", \"ON843877\", \"ON814737\", \"ON814738\", \"ON814740\", \"ON814802\", \"ON843878\", \"ON814745\", \"ON814747\", \"ON814749\", \"ON814806\", \"ON814750\", \"ON814753\", \"ON814812\", \"ON814817\", \"ON814818\", \"ON814756\", \"ON814820\", \"ON814824\", \"ON843881\", \"ON814760\", \"ON814828\", \"ON814829\", \"ON814831\", \"ON814832\", \"ON843883\", \"ON814766\", \"ON814768\", \"ON814769\", \"ON814770\", \"ON814773\"]"
      ]
    },
    {
      "cell_type": "code",
      "execution_count": null,
      "metadata": {
        "id": "PKJaIWObFN5E",
        "outputId": "ce6022ef-3968-48fc-9f34-01807902297a"
      },
      "outputs": [
        {
          "ename": "HTTPError",
          "evalue": "HTTP Error 400: Bad Request",
          "output_type": "error",
          "traceback": [
            "\u001b[0;31m---------------------------------------------------------------------------\u001b[0m",
            "\u001b[0;31mHTTPError\u001b[0m                                 Traceback (most recent call last)",
            "Cell \u001b[0;32mIn[5], line 1\u001b[0m\n\u001b[0;32m----> 1\u001b[0m Entrez\u001b[39m.\u001b[39;49mefetch(db\u001b[39m=\u001b[39;49m\u001b[39m\"\u001b[39;49m\u001b[39mnucleotide\u001b[39;49m\u001b[39m\"\u001b[39;49m, \u001b[39mid\u001b[39;49m\u001b[39m=\u001b[39;49m\u001b[39m'\u001b[39;49m\u001b[39mON814704\u001b[39;49m\u001b[39m'\u001b[39;49m, rettype\u001b[39m=\u001b[39;49m\u001b[39m\"\u001b[39;49m\u001b[39mfasta\u001b[39;49m\u001b[39m\"\u001b[39;49m, retmode\u001b[39m=\u001b[39;49m\u001b[39m\"\u001b[39;49m\u001b[39mtext\u001b[39;49m\u001b[39m\"\u001b[39;49m)\n",
            "File \u001b[0;32m~/venv39/lib/python3.9/site-packages/Bio/Entrez/__init__.py:196\u001b[0m, in \u001b[0;36mefetch\u001b[0;34m(db, **keywords)\u001b[0m\n\u001b[1;32m    194\u001b[0m variables\u001b[39m.\u001b[39mupdate(keywords)\n\u001b[1;32m    195\u001b[0m request \u001b[39m=\u001b[39m _build_request(cgi, variables)\n\u001b[0;32m--> 196\u001b[0m \u001b[39mreturn\u001b[39;00m _open(request)\n",
            "File \u001b[0;32m~/venv39/lib/python3.9/site-packages/Bio/Entrez/__init__.py:594\u001b[0m, in \u001b[0;36m_open\u001b[0;34m(request)\u001b[0m\n\u001b[1;32m    592\u001b[0m \u001b[39mfor\u001b[39;00m i \u001b[39min\u001b[39;00m \u001b[39mrange\u001b[39m(max_tries):\n\u001b[1;32m    593\u001b[0m     \u001b[39mtry\u001b[39;00m:\n\u001b[0;32m--> 594\u001b[0m         handle \u001b[39m=\u001b[39m urlopen(request)\n\u001b[1;32m    595\u001b[0m     \u001b[39mexcept\u001b[39;00m HTTPError \u001b[39mas\u001b[39;00m exception:\n\u001b[1;32m    596\u001b[0m         \u001b[39m# Reraise if the final try fails\u001b[39;00m\n\u001b[1;32m    597\u001b[0m         \u001b[39mif\u001b[39;00m i \u001b[39m>\u001b[39m\u001b[39m=\u001b[39m max_tries \u001b[39m-\u001b[39m \u001b[39m1\u001b[39m:\n",
            "File \u001b[0;32m/usr/lib/python3.9/urllib/request.py:214\u001b[0m, in \u001b[0;36murlopen\u001b[0;34m(url, data, timeout, cafile, capath, cadefault, context)\u001b[0m\n\u001b[1;32m    212\u001b[0m \u001b[39melse\u001b[39;00m:\n\u001b[1;32m    213\u001b[0m     opener \u001b[39m=\u001b[39m _opener\n\u001b[0;32m--> 214\u001b[0m \u001b[39mreturn\u001b[39;00m opener\u001b[39m.\u001b[39;49mopen(url, data, timeout)\n",
            "File \u001b[0;32m/usr/lib/python3.9/urllib/request.py:523\u001b[0m, in \u001b[0;36mOpenerDirector.open\u001b[0;34m(self, fullurl, data, timeout)\u001b[0m\n\u001b[1;32m    521\u001b[0m \u001b[39mfor\u001b[39;00m processor \u001b[39min\u001b[39;00m \u001b[39mself\u001b[39m\u001b[39m.\u001b[39mprocess_response\u001b[39m.\u001b[39mget(protocol, []):\n\u001b[1;32m    522\u001b[0m     meth \u001b[39m=\u001b[39m \u001b[39mgetattr\u001b[39m(processor, meth_name)\n\u001b[0;32m--> 523\u001b[0m     response \u001b[39m=\u001b[39m meth(req, response)\n\u001b[1;32m    525\u001b[0m \u001b[39mreturn\u001b[39;00m response\n",
            "File \u001b[0;32m/usr/lib/python3.9/urllib/request.py:632\u001b[0m, in \u001b[0;36mHTTPErrorProcessor.http_response\u001b[0;34m(self, request, response)\u001b[0m\n\u001b[1;32m    629\u001b[0m \u001b[39m# According to RFC 2616, \"2xx\" code indicates that the client's\u001b[39;00m\n\u001b[1;32m    630\u001b[0m \u001b[39m# request was successfully received, understood, and accepted.\u001b[39;00m\n\u001b[1;32m    631\u001b[0m \u001b[39mif\u001b[39;00m \u001b[39mnot\u001b[39;00m (\u001b[39m200\u001b[39m \u001b[39m<\u001b[39m\u001b[39m=\u001b[39m code \u001b[39m<\u001b[39m \u001b[39m300\u001b[39m):\n\u001b[0;32m--> 632\u001b[0m     response \u001b[39m=\u001b[39m \u001b[39mself\u001b[39;49m\u001b[39m.\u001b[39;49mparent\u001b[39m.\u001b[39;49merror(\n\u001b[1;32m    633\u001b[0m         \u001b[39m'\u001b[39;49m\u001b[39mhttp\u001b[39;49m\u001b[39m'\u001b[39;49m, request, response, code, msg, hdrs)\n\u001b[1;32m    635\u001b[0m \u001b[39mreturn\u001b[39;00m response\n",
            "File \u001b[0;32m/usr/lib/python3.9/urllib/request.py:561\u001b[0m, in \u001b[0;36mOpenerDirector.error\u001b[0;34m(self, proto, *args)\u001b[0m\n\u001b[1;32m    559\u001b[0m \u001b[39mif\u001b[39;00m http_err:\n\u001b[1;32m    560\u001b[0m     args \u001b[39m=\u001b[39m (\u001b[39mdict\u001b[39m, \u001b[39m'\u001b[39m\u001b[39mdefault\u001b[39m\u001b[39m'\u001b[39m, \u001b[39m'\u001b[39m\u001b[39mhttp_error_default\u001b[39m\u001b[39m'\u001b[39m) \u001b[39m+\u001b[39m orig_args\n\u001b[0;32m--> 561\u001b[0m     \u001b[39mreturn\u001b[39;00m \u001b[39mself\u001b[39;49m\u001b[39m.\u001b[39;49m_call_chain(\u001b[39m*\u001b[39;49margs)\n",
            "File \u001b[0;32m/usr/lib/python3.9/urllib/request.py:494\u001b[0m, in \u001b[0;36mOpenerDirector._call_chain\u001b[0;34m(self, chain, kind, meth_name, *args)\u001b[0m\n\u001b[1;32m    492\u001b[0m \u001b[39mfor\u001b[39;00m handler \u001b[39min\u001b[39;00m handlers:\n\u001b[1;32m    493\u001b[0m     func \u001b[39m=\u001b[39m \u001b[39mgetattr\u001b[39m(handler, meth_name)\n\u001b[0;32m--> 494\u001b[0m     result \u001b[39m=\u001b[39m func(\u001b[39m*\u001b[39;49margs)\n\u001b[1;32m    495\u001b[0m     \u001b[39mif\u001b[39;00m result \u001b[39mis\u001b[39;00m \u001b[39mnot\u001b[39;00m \u001b[39mNone\u001b[39;00m:\n\u001b[1;32m    496\u001b[0m         \u001b[39mreturn\u001b[39;00m result\n",
            "File \u001b[0;32m/usr/lib/python3.9/urllib/request.py:641\u001b[0m, in \u001b[0;36mHTTPDefaultErrorHandler.http_error_default\u001b[0;34m(self, req, fp, code, msg, hdrs)\u001b[0m\n\u001b[1;32m    640\u001b[0m \u001b[39mdef\u001b[39;00m \u001b[39mhttp_error_default\u001b[39m(\u001b[39mself\u001b[39m, req, fp, code, msg, hdrs):\n\u001b[0;32m--> 641\u001b[0m     \u001b[39mraise\u001b[39;00m HTTPError(req\u001b[39m.\u001b[39mfull_url, code, msg, hdrs, fp)\n",
            "\u001b[0;31mHTTPError\u001b[0m: HTTP Error 400: Bad Request"
          ]
        }
      ],
      "source": [
        "Entrez.efetch(db=\"nucleotide\", id='ON814704', rettype=\"fasta\", retmode=\"text\")\n"
      ]
    },
    {
      "cell_type": "code",
      "execution_count": null,
      "metadata": {
        "id": "Wue1hu96FN5G",
        "outputId": "281d943d-41ea-4c1b-8c19-6e9d1e7a4744"
      },
      "outputs": [
        {
          "ename": "HTTPError",
          "evalue": "HTTP Error 400: Bad Request",
          "output_type": "error",
          "traceback": [
            "\u001b[0;31m---------------------------------------------------------------------------\u001b[0m",
            "\u001b[0;31mHTTPError\u001b[0m                                 Traceback (most recent call last)",
            "Cell \u001b[0;32mIn[43], line 3\u001b[0m\n\u001b[1;32m      1\u001b[0m \u001b[39m# Construct the query and retrieve the sequences\u001b[39;00m\n\u001b[1;32m      2\u001b[0m query \u001b[39m=\u001b[39m \u001b[39m\"\u001b[39m\u001b[39m OR \u001b[39m\u001b[39m\"\u001b[39m\u001b[39m.\u001b[39mjoin(accession_numbers)\n\u001b[0;32m----> 3\u001b[0m handle \u001b[39m=\u001b[39m Entrez\u001b[39m.\u001b[39;49mefetch(db\u001b[39m=\u001b[39;49m\u001b[39m\"\u001b[39;49m\u001b[39mnucleotide\u001b[39;49m\u001b[39m\"\u001b[39;49m, \u001b[39mid\u001b[39;49m\u001b[39m=\u001b[39;49mquery, rettype\u001b[39m=\u001b[39;49m\u001b[39m\"\u001b[39;49m\u001b[39mfasta\u001b[39;49m\u001b[39m\"\u001b[39;49m, retmode\u001b[39m=\u001b[39;49m\u001b[39m\"\u001b[39;49m\u001b[39mtext\u001b[39;49m\u001b[39m\"\u001b[39;49m)\n\u001b[1;32m      4\u001b[0m sequences \u001b[39m=\u001b[39m handle\u001b[39m.\u001b[39mread()\n",
            "File \u001b[0;32m~/venv39/lib/python3.9/site-packages/Bio/Entrez/__init__.py:196\u001b[0m, in \u001b[0;36mefetch\u001b[0;34m(db, **keywords)\u001b[0m\n\u001b[1;32m    194\u001b[0m variables\u001b[39m.\u001b[39mupdate(keywords)\n\u001b[1;32m    195\u001b[0m request \u001b[39m=\u001b[39m _build_request(cgi, variables)\n\u001b[0;32m--> 196\u001b[0m \u001b[39mreturn\u001b[39;00m _open(request)\n",
            "File \u001b[0;32m~/venv39/lib/python3.9/site-packages/Bio/Entrez/__init__.py:594\u001b[0m, in \u001b[0;36m_open\u001b[0;34m(request)\u001b[0m\n\u001b[1;32m    592\u001b[0m \u001b[39mfor\u001b[39;00m i \u001b[39min\u001b[39;00m \u001b[39mrange\u001b[39m(max_tries):\n\u001b[1;32m    593\u001b[0m     \u001b[39mtry\u001b[39;00m:\n\u001b[0;32m--> 594\u001b[0m         handle \u001b[39m=\u001b[39m urlopen(request)\n\u001b[1;32m    595\u001b[0m     \u001b[39mexcept\u001b[39;00m HTTPError \u001b[39mas\u001b[39;00m exception:\n\u001b[1;32m    596\u001b[0m         \u001b[39m# Reraise if the final try fails\u001b[39;00m\n\u001b[1;32m    597\u001b[0m         \u001b[39mif\u001b[39;00m i \u001b[39m>\u001b[39m\u001b[39m=\u001b[39m max_tries \u001b[39m-\u001b[39m \u001b[39m1\u001b[39m:\n",
            "File \u001b[0;32m/usr/lib/python3.9/urllib/request.py:214\u001b[0m, in \u001b[0;36murlopen\u001b[0;34m(url, data, timeout, cafile, capath, cadefault, context)\u001b[0m\n\u001b[1;32m    212\u001b[0m \u001b[39melse\u001b[39;00m:\n\u001b[1;32m    213\u001b[0m     opener \u001b[39m=\u001b[39m _opener\n\u001b[0;32m--> 214\u001b[0m \u001b[39mreturn\u001b[39;00m opener\u001b[39m.\u001b[39;49mopen(url, data, timeout)\n",
            "File \u001b[0;32m/usr/lib/python3.9/urllib/request.py:523\u001b[0m, in \u001b[0;36mOpenerDirector.open\u001b[0;34m(self, fullurl, data, timeout)\u001b[0m\n\u001b[1;32m    521\u001b[0m \u001b[39mfor\u001b[39;00m processor \u001b[39min\u001b[39;00m \u001b[39mself\u001b[39m\u001b[39m.\u001b[39mprocess_response\u001b[39m.\u001b[39mget(protocol, []):\n\u001b[1;32m    522\u001b[0m     meth \u001b[39m=\u001b[39m \u001b[39mgetattr\u001b[39m(processor, meth_name)\n\u001b[0;32m--> 523\u001b[0m     response \u001b[39m=\u001b[39m meth(req, response)\n\u001b[1;32m    525\u001b[0m \u001b[39mreturn\u001b[39;00m response\n",
            "File \u001b[0;32m/usr/lib/python3.9/urllib/request.py:632\u001b[0m, in \u001b[0;36mHTTPErrorProcessor.http_response\u001b[0;34m(self, request, response)\u001b[0m\n\u001b[1;32m    629\u001b[0m \u001b[39m# According to RFC 2616, \"2xx\" code indicates that the client's\u001b[39;00m\n\u001b[1;32m    630\u001b[0m \u001b[39m# request was successfully received, understood, and accepted.\u001b[39;00m\n\u001b[1;32m    631\u001b[0m \u001b[39mif\u001b[39;00m \u001b[39mnot\u001b[39;00m (\u001b[39m200\u001b[39m \u001b[39m<\u001b[39m\u001b[39m=\u001b[39m code \u001b[39m<\u001b[39m \u001b[39m300\u001b[39m):\n\u001b[0;32m--> 632\u001b[0m     response \u001b[39m=\u001b[39m \u001b[39mself\u001b[39;49m\u001b[39m.\u001b[39;49mparent\u001b[39m.\u001b[39;49merror(\n\u001b[1;32m    633\u001b[0m         \u001b[39m'\u001b[39;49m\u001b[39mhttp\u001b[39;49m\u001b[39m'\u001b[39;49m, request, response, code, msg, hdrs)\n\u001b[1;32m    635\u001b[0m \u001b[39mreturn\u001b[39;00m response\n",
            "File \u001b[0;32m/usr/lib/python3.9/urllib/request.py:561\u001b[0m, in \u001b[0;36mOpenerDirector.error\u001b[0;34m(self, proto, *args)\u001b[0m\n\u001b[1;32m    559\u001b[0m \u001b[39mif\u001b[39;00m http_err:\n\u001b[1;32m    560\u001b[0m     args \u001b[39m=\u001b[39m (\u001b[39mdict\u001b[39m, \u001b[39m'\u001b[39m\u001b[39mdefault\u001b[39m\u001b[39m'\u001b[39m, \u001b[39m'\u001b[39m\u001b[39mhttp_error_default\u001b[39m\u001b[39m'\u001b[39m) \u001b[39m+\u001b[39m orig_args\n\u001b[0;32m--> 561\u001b[0m     \u001b[39mreturn\u001b[39;00m \u001b[39mself\u001b[39;49m\u001b[39m.\u001b[39;49m_call_chain(\u001b[39m*\u001b[39;49margs)\n",
            "File \u001b[0;32m/usr/lib/python3.9/urllib/request.py:494\u001b[0m, in \u001b[0;36mOpenerDirector._call_chain\u001b[0;34m(self, chain, kind, meth_name, *args)\u001b[0m\n\u001b[1;32m    492\u001b[0m \u001b[39mfor\u001b[39;00m handler \u001b[39min\u001b[39;00m handlers:\n\u001b[1;32m    493\u001b[0m     func \u001b[39m=\u001b[39m \u001b[39mgetattr\u001b[39m(handler, meth_name)\n\u001b[0;32m--> 494\u001b[0m     result \u001b[39m=\u001b[39m func(\u001b[39m*\u001b[39;49margs)\n\u001b[1;32m    495\u001b[0m     \u001b[39mif\u001b[39;00m result \u001b[39mis\u001b[39;00m \u001b[39mnot\u001b[39;00m \u001b[39mNone\u001b[39;00m:\n\u001b[1;32m    496\u001b[0m         \u001b[39mreturn\u001b[39;00m result\n",
            "File \u001b[0;32m/usr/lib/python3.9/urllib/request.py:641\u001b[0m, in \u001b[0;36mHTTPDefaultErrorHandler.http_error_default\u001b[0;34m(self, req, fp, code, msg, hdrs)\u001b[0m\n\u001b[1;32m    640\u001b[0m \u001b[39mdef\u001b[39;00m \u001b[39mhttp_error_default\u001b[39m(\u001b[39mself\u001b[39m, req, fp, code, msg, hdrs):\n\u001b[0;32m--> 641\u001b[0m     \u001b[39mraise\u001b[39;00m HTTPError(req\u001b[39m.\u001b[39mfull_url, code, msg, hdrs, fp)\n",
            "\u001b[0;31mHTTPError\u001b[0m: HTTP Error 400: Bad Request"
          ]
        }
      ],
      "source": [
        "# Construct the query and retrieve the sequences\n",
        "query = \" OR \".join(accession_numbers)\n",
        "handle = Entrez.efetch(db=\"nucleotide\", id=query, rettype=\"fasta\", retmode=\"text\")\n",
        "sequences = handle.read()"
      ]
    },
    {
      "attachments": {},
      "cell_type": "markdown",
      "metadata": {
        "id": "YalNmujyFN5H"
      },
      "source": [
        "Such sequences do not exist in Genbank."
      ]
    }
  ],
  "metadata": {
    "colab": {
      "provenance": []
    },
    "kernelspec": {
      "display_name": "venv39",
      "language": "python",
      "name": "python3"
    },
    "language_info": {
      "codemirror_mode": {
        "name": "ipython",
        "version": 3
      },
      "file_extension": ".py",
      "mimetype": "text/x-python",
      "name": "python",
      "nbconvert_exporter": "python",
      "pygments_lexer": "ipython3",
      "version": "3.9.13"
    },
    "orig_nbformat": 4
  },
  "nbformat": 4,
  "nbformat_minor": 0
}
