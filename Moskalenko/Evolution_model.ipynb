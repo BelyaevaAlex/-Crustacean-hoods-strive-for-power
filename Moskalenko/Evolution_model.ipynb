{
  "cells": [
    {
      "attachments": {},
      "cell_type": "markdown",
      "id": "6b5b7c00-a40a-4f44-8d95-ca4cd16d2eb3",
      "metadata": {
        "id": "6b5b7c00-a40a-4f44-8d95-ca4cd16d2eb3"
      },
      "source": [
        "### 5.1. Selecting an evolution model in ModelTest (ModelTest-NG):"
      ]
    },
    {
      "cell_type": "code",
      "execution_count": null,
      "id": "1f37b438-3777-4e4e-9cc4-31cd051c2786",
      "metadata": {
        "colab": {
          "base_uri": "https://localhost:8080/"
        },
        "id": "1f37b438-3777-4e4e-9cc4-31cd051c2786",
        "outputId": "0f70dd7f-bac3-4c64-cf86-9f6351a9d45a"
      },
      "outputs": [],
      "source": [
        "! modeltest-ng -i sequences_Moskalenko_s_16_muscle.trim.fas -o sequences_Moskalenko_s_16_muscle_trim_modeltest"
      ]
    },
    {
      "cell_type": "code",
      "execution_count": null,
      "id": "-oebeUITF6CL",
      "metadata": {
        "colab": {
          "base_uri": "https://localhost:8080/"
        },
        "id": "-oebeUITF6CL",
        "outputId": "bd585760-c160-4976-b750-6844c4ec7358"
      },
      "outputs": [],
      "source": [
        "! modeltest-ng -i sequences_Moskalenko_s_18_muscle.trim.fas -o sequences_Moskalenko_s_18_muscle_trim_modeltest"
      ]
    },
    {
      "cell_type": "code",
      "execution_count": null,
      "id": "o_aOE0ydF-4q",
      "metadata": {
        "colab": {
          "base_uri": "https://localhost:8080/"
        },
        "id": "o_aOE0ydF-4q",
        "outputId": "150705dd-fea0-4c7d-e3f3-1acacc893f39"
      },
      "outputs": [],
      "source": [
        "! modeltest-ng -i sequences_Moskalenko_s_28_muscle.trim.fas -o sequences_Moskalenko_s_28_muscle_trim_modeltest"
      ]
    },
    {
      "cell_type": "code",
      "execution_count": null,
      "id": "0gV7PLYnGBWY",
      "metadata": {
        "colab": {
          "base_uri": "https://localhost:8080/"
        },
        "id": "0gV7PLYnGBWY",
        "outputId": "c308028f-1b3e-4cdf-bb67-b8d5cd5e414e"
      },
      "outputs": [],
      "source": [
        "! modeltest-ng -i sequences_Moskalenko_coi_muscle.trim.fas -o sequences_Moskalenko_coi_muscle_trim_modeltest"
      ]
    },
    {
      "cell_type": "code",
      "execution_count": null,
      "id": "-vAPxJ8-GMm5",
      "metadata": {
        "colab": {
          "base_uri": "https://localhost:8080/"
        },
        "id": "-vAPxJ8-GMm5",
        "outputId": "9f83a87c-dd4c-4721-9508-e55b7fda3a68"
      },
      "outputs": [],
      "source": [
        "! modeltest-ng -i sequences_Moskalenko_eF1a_muscle.trim.fas -o sequences_Moskalenko_eF1a_muscle_trim_modeltest"
      ]
    },
    {
      "cell_type": "code",
      "execution_count": null,
      "id": "dpgn4KGEGTdm",
      "metadata": {
        "colab": {
          "base_uri": "https://localhost:8080/"
        },
        "id": "dpgn4KGEGTdm",
        "outputId": "e9498baf-fc1b-4355-839a-5227d14051ab"
      },
      "outputs": [],
      "source": [
        "! modeltest-ng -i sequences_Moskalenko_h3_muscle.trim.fas -o sequences_Moskalenko_h3_muscle_trim_modeltest"
      ]
    },
    {
      "cell_type": "code",
      "execution_count": null,
      "id": "he8t4BvsZOp7",
      "metadata": {
        "colab": {
          "base_uri": "https://localhost:8080/"
        },
        "id": "he8t4BvsZOp7",
        "outputId": "0e8ace08-ffb0-4227-9a76-c2e72d20aa74"
      },
      "outputs": [],
      "source": [
        "! modeltest-ng -i sequences_Moskalenko_all_muscle.trim.fas -o sequences_Moskalenko_all_muscle_trim_modeltest"
      ]
    },
    {
      "cell_type": "code",
      "execution_count": null,
      "id": "MJfm_kNNZWQI",
      "metadata": {
        "colab": {
          "base_uri": "https://localhost:8080/"
        },
        "id": "MJfm_kNNZWQI",
        "outputId": "0bb5791b-42aa-4915-8518-c7a4008e2539"
      },
      "outputs": [],
      "source": [
        "! modeltest-ng -i sequences_Moskalenko_gr1_muscle.trim.fas -o sequences_Moskalenko_gr1_muscle_trim_modeltest"
      ]
    },
    {
      "cell_type": "code",
      "execution_count": null,
      "id": "1Wzvz77RZWZp",
      "metadata": {
        "colab": {
          "base_uri": "https://localhost:8080/"
        },
        "id": "1Wzvz77RZWZp",
        "outputId": "30f343cf-0e2c-4e37-a69f-84a5bcb88a16"
      },
      "outputs": [],
      "source": [
        "! modeltest-ng -i sequences_Moskalenko_gr2_muscle.trim.fas -o sequences_Moskalenko_gr2_muscle_trim_modeltest"
      ]
    },
    {
      "attachments": {},
      "cell_type": "markdown",
      "id": "ed7e3cdb-b583-44a5-8c9d-a228a985ab40",
      "metadata": {
        "id": "ed7e3cdb-b583-44a5-8c9d-a228a985ab40"
      },
      "source": [
        "When choosing an evolution model , in order to recognize it as the most suitable for our alignment , we will focus on BIC"
      ]
    },
    {
      "attachments": {},
      "cell_type": "markdown",
      "id": "31126948-11fa-449a-858b-999546121781",
      "metadata": {
        "id": "31126948-11fa-449a-858b-999546121781"
      },
      "source": [
        "### 5.2. But we want to optimize, and therefore we will continue to choose the best model for every fas in ModelFinder through the IQ-TREE, and then we build an ML-tree using it"
      ]
    },
    {
      "cell_type": "code",
      "execution_count": null,
      "id": "1fbbfa4c-fc28-4b3f-976e-05623b721cc1",
      "metadata": {
        "colab": {
          "base_uri": "https://localhost:8080/"
        },
        "id": "1fbbfa4c-fc28-4b3f-976e-05623b721cc1",
        "outputId": "c6c08da7-5100-4ae4-cc8e-4f43e0d0d11d"
      },
      "outputs": [],
      "source": [
        "!iqtree -m MFP -s sequences_Moskalenko_s_16_muscle.trim.fas --prefix sequences_Moskalenko_s_16_MF2 # even without \n",
        "#parallelization, it works faster"
      ]
    },
    {
      "cell_type": "code",
      "execution_count": null,
      "id": "lhvmpQQkLyV8",
      "metadata": {
        "colab": {
          "base_uri": "https://localhost:8080/"
        },
        "id": "lhvmpQQkLyV8",
        "outputId": "79e006d9-8616-406d-c7d6-db54eaa044c0"
      },
      "outputs": [],
      "source": [
        "!iqtree -m MFP -s sequences_Moskalenko_s_18_muscle.trim.fas --prefix sequences_Moskalenko_s_18_MF2 "
      ]
    },
    {
      "cell_type": "code",
      "execution_count": null,
      "id": "BKAzWH9RL5EF",
      "metadata": {
        "colab": {
          "base_uri": "https://localhost:8080/"
        },
        "id": "BKAzWH9RL5EF",
        "outputId": "8350fb8e-e93a-4971-aede-c886f5946b28"
      },
      "outputs": [],
      "source": [
        "!iqtree -m MFP -s sequences_Moskalenko_s_28_muscle.trim.fas --prefix sequences_Moskalenko_s_28_MF2"
      ]
    },
    {
      "cell_type": "code",
      "execution_count": null,
      "id": "4heQJTuYL7s1",
      "metadata": {
        "colab": {
          "base_uri": "https://localhost:8080/"
        },
        "id": "4heQJTuYL7s1",
        "outputId": "7c5b7144-684a-42b5-e7b1-c3a5a01f22ec"
      },
      "outputs": [],
      "source": [
        "!iqtree -m MFP -s sequences_Moskalenko_coi_muscle.trim.fas --prefix sequences_Moskalenko_coi_MF2 "
      ]
    },
    {
      "cell_type": "code",
      "execution_count": null,
      "id": "8FFj2gUiL73f",
      "metadata": {
        "colab": {
          "base_uri": "https://localhost:8080/"
        },
        "id": "8FFj2gUiL73f",
        "outputId": "6d7f5bf6-eb81-4d1e-e447-4d9596747a3a"
      },
      "outputs": [],
      "source": [
        "!iqtree -m MFP -s sequences_Moskalenko_eF1a_muscle.trim.fas --prefix sequences_Moskalenko_eF1a_MF2"
      ]
    },
    {
      "cell_type": "code",
      "execution_count": null,
      "id": "pcDWjgw2L8BJ",
      "metadata": {
        "colab": {
          "base_uri": "https://localhost:8080/"
        },
        "id": "pcDWjgw2L8BJ",
        "outputId": "db2673df-8ad4-467f-e0a4-c0a1a9121ff5"
      },
      "outputs": [],
      "source": [
        "!iqtree -m MFP -s sequences_Moskalenko_h3_muscle.trim.fas --prefix sequences_Moskalenko_h3_MF2 "
      ]
    },
    {
      "cell_type": "code",
      "execution_count": null,
      "id": "OQUV51Sz0iZ6",
      "metadata": {
        "colab": {
          "base_uri": "https://localhost:8080/"
        },
        "id": "OQUV51Sz0iZ6",
        "outputId": "bd1600ce-ccc9-4800-9062-47592a5e007c"
      },
      "outputs": [],
      "source": [
        "!iqtree -m MFP -s sequences_Moskalenko_all_muscle.trim.fas --prefix sequences_Moskalenko_all_muscle_MF2 "
      ]
    },
    {
      "cell_type": "code",
      "execution_count": null,
      "id": "nxtHyqcW0ihQ",
      "metadata": {
        "colab": {
          "base_uri": "https://localhost:8080/"
        },
        "id": "nxtHyqcW0ihQ",
        "outputId": "70c830c6-1824-47a3-acbd-a2e608717811"
      },
      "outputs": [],
      "source": [
        "!iqtree -m MFP -s sequences_Moskalenko_gr1_muscle.trim.fas --prefix sequences_Moskalenko_gr1_muscle_MF2 "
      ]
    },
    {
      "cell_type": "code",
      "execution_count": null,
      "id": "KBJpxP8Q0iqo",
      "metadata": {
        "colab": {
          "base_uri": "https://localhost:8080/"
        },
        "id": "KBJpxP8Q0iqo",
        "outputId": "c609c321-9df0-4a5e-ff50-351817120151"
      },
      "outputs": [],
      "source": [
        "!iqtree -m MFP -s sequences_Moskalenko_gr2_muscle.trim.fas --prefix sequences_Moskalenko_gr2_muscle_MF2 "
      ]
    },
    {
      "attachments": {},
      "cell_type": "markdown",
      "id": "LgPQbPCXLymn",
      "metadata": {
        "id": "LgPQbPCXLymn"
      },
      "source": [
        "In general, since we decide that it is the BIC parmeter that is important to us, we believe that both programs have come to about the same thing"
      ]
    }
  ],
  "metadata": {
    "colab": {
      "provenance": []
    },
    "kernelspec": {
      "display_name": "Python 3 (ipykernel)",
      "language": "python",
      "name": "python3"
    },
    "language_info": {
      "codemirror_mode": {
        "name": "ipython",
        "version": 3
      },
      "file_extension": ".py",
      "mimetype": "text/x-python",
      "name": "python",
      "nbconvert_exporter": "python",
      "pygments_lexer": "ipython3",
      "version": "3.9.13"
    }
  },
  "nbformat": 4,
  "nbformat_minor": 5
}
