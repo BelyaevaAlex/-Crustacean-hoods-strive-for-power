{
 "cells": [
  {
   "attachments": {},
   "cell_type": "markdown",
   "id": "7eb2b37f",
   "metadata": {},
   "source": [
    "### 4. We cut out the bad areas from the alignment using trimAl:"
   ]
  },
  {
   "cell_type": "code",
   "execution_count": null,
   "id": "cc4f8d5b",
   "metadata": {},
   "outputs": [],
   "source": [
    "# it is better to specify the method right away \n",
    "# -automated1 - since next we are going to build a tree using the maximum likelihood method\n",
    "! trimal -in sequences_Moskalenko_s_16_muscle.fa -out sequences_Moskalenko_s_16_muscle.trim.fas -automated1 "
   ]
  },
  {
   "cell_type": "code",
   "execution_count": null,
   "id": "73337af0",
   "metadata": {},
   "outputs": [],
   "source": [
    "! trimal -in sequences_Moskalenko_s_18_muscle.fa -out sequences_Moskalenko_s_18_muscle.trim.fas -automated1 "
   ]
  },
  {
   "cell_type": "code",
   "execution_count": null,
   "id": "fac84542",
   "metadata": {},
   "outputs": [],
   "source": [
    "! trimal -in sequences_Moskalenko_s_28_muscle.fa -out sequences_Moskalenko_s_28_muscle.trim.fas -automated1 "
   ]
  },
  {
   "cell_type": "code",
   "execution_count": null,
   "id": "d9d447a7",
   "metadata": {},
   "outputs": [],
   "source": [
    "! trimal -in sequences_Moskalenko_coi_muscle.fa -out sequences_Moskalenko_coi_muscle.trim.fas -automated1 "
   ]
  },
  {
   "cell_type": "code",
   "execution_count": null,
   "id": "df811e65",
   "metadata": {},
   "outputs": [],
   "source": [
    "! trimal -in sequences_Moskalenko_eF1a_muscle.fa -out sequences_Moskalenko_eF1a_muscle.trim.fas -automated1 "
   ]
  },
  {
   "cell_type": "code",
   "execution_count": null,
   "id": "d6cfd0cb",
   "metadata": {},
   "outputs": [],
   "source": [
    "! trimal -in sequences_Moskalenko_h3_muscle.fa -out sequences_Moskalenko_h3_muscle.trim.fas -automated1 "
   ]
  },
  {
   "cell_type": "code",
   "execution_count": null,
   "id": "52717901",
   "metadata": {},
   "outputs": [],
   "source": [
    "! trimal -in sequences_Moskalenko_all_muscle.fas -out sequences_Moskalenko_all_muscle.trim.fas -automated1 "
   ]
  },
  {
   "cell_type": "code",
   "execution_count": null,
   "id": "a4f62803",
   "metadata": {},
   "outputs": [],
   "source": [
    "! trimal -in sequences_Moskalenko_gr1_muscle.fas -out sequences_Moskalenko_gr1_muscle.trim.fas -automated1 "
   ]
  },
  {
   "cell_type": "code",
   "execution_count": null,
   "id": "e5e697f4",
   "metadata": {},
   "outputs": [],
   "source": [
    "! trimal -in sequences_Moskalenko_gr2_muscle.fas -out sequences_Moskalenko_gr2_muscle.trim.fas -automated1 "
   ]
  }
 ],
 "metadata": {
  "kernelspec": {
   "display_name": "Python 3 (ipykernel)",
   "language": "python",
   "name": "python3"
  },
  "language_info": {
   "codemirror_mode": {
    "name": "ipython",
    "version": 3
   },
   "file_extension": ".py",
   "mimetype": "text/x-python",
   "name": "python",
   "nbconvert_exporter": "python",
   "pygments_lexer": "ipython3",
   "version": "3.9.13"
  }
 },
 "nbformat": 4,
 "nbformat_minor": 5
}
